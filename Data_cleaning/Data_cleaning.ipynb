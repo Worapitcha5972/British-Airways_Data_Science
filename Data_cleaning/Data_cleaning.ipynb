{
 "cells":[
  {
   "cell_type":"markdown",
   "source":[
    "# **Data Cleaning**"
   ],
   "attachments":{
    
   },
   "metadata":{
    "datalore":{
     "node_id":"PGbYh2ytyARSijKeOu8cjf",
     "type":"MD",
     "hide_input_from_viewers":true,
     "hide_output_from_viewers":true
    }
   }
  },
  {
   "cell_type":"code",
   "source":[
    "import pandas as pd\n",
    "import numpy as np\n",
    "import os"
   ],
   "execution_count":1,
   "outputs":[
    
   ],
   "metadata":{
    "datalore":{
     "node_id":"3OnEwtYBevGkOVGwU1QBsH",
     "type":"CODE",
     "hide_input_from_viewers":true,
     "hide_output_from_viewers":true
    }
   }
  },
  {
   "cell_type":"code",
   "source":[
    "cwd = os.getcwd()\n",
    "\n",
    "df = pd.read_csv(cwd+\"\/BA_reviews.csv\", index_col=0)"
   ],
   "execution_count":2,
   "outputs":[
    
   ],
   "metadata":{
    "datalore":{
     "node_id":"VyhkAgIJi1U5pJphPMMMm6",
     "type":"CODE",
     "hide_input_from_viewers":true,
     "hide_output_from_viewers":true
    }
   }
  },
  {
   "cell_type":"code",
   "source":[
    "#Create column 'verified' to identify which user is verified \n",
    "df['verified'] = df.reviews.str.contains(\"Trip Verified\")"
   ],
   "execution_count":3,
   "outputs":[
    
   ],
   "metadata":{
    "datalore":{
     "node_id":"SgWXf7Uv14dgdGdSIQuj8U",
     "type":"CODE",
     "hide_input_from_viewers":true,
     "hide_output_from_viewers":true
    }
   }
  },
  {
   "cell_type":"markdown",
   "source":[
    "## **Cleaning Reviews**"
   ],
   "attachments":{
    
   },
   "metadata":{
    "datalore":{
     "node_id":"hYZ3fq7Ky9JyHugNAaw1IT",
     "type":"MD",
     "hide_input_from_viewers":true,
     "hide_output_from_viewers":true
    }
   }
  },
  {
   "cell_type":"code",
   "source":[
    "#Remove 'Trip Verified' and 'Not Verified' \n",
    "df['reviews'] = df['reviews'].apply(lambda x: x.split('|')[-1].strip())"
   ],
   "execution_count":4,
   "outputs":[
    
   ],
   "metadata":{
    "datalore":{
     "node_id":"lIFOJ9eznBp2Y74JzK3nsn",
     "type":"CODE",
     "hide_input_from_viewers":true,
     "hide_output_from_viewers":true
    }
   }
  },
  {
   "cell_type":"code",
   "source":[
    "df.head()"
   ],
   "execution_count":5,
   "outputs":[
    {
     "data":{
      "text\/html":[
       "<div>\n",
       "<style scoped>\n",
       "    .dataframe tbody tr th:only-of-type {\n",
       "        vertical-align: middle;\n",
       "    }\n",
       "\n",
       "    .dataframe tbody tr th {\n",
       "        vertical-align: top;\n",
       "    }\n",
       "\n",
       "    .dataframe thead th {\n",
       "        text-align: right;\n",
       "    }\n",
       "<\/style>\n",
       "<table border=\"1\" class=\"dataframe\">\n",
       "  <thead>\n",
       "    <tr style=\"text-align: right;\">\n",
       "      <th><\/th>\n",
       "      <th>reviews<\/th>\n",
       "      <th>rating_star<\/th>\n",
       "      <th>date<\/th>\n",
       "      <th>country<\/th>\n",
       "      <th>seat_rating<\/th>\n",
       "      <th>staff_rating<\/th>\n",
       "      <th>food_beverage_rating<\/th>\n",
       "      <th>ground_service_rating<\/th>\n",
       "      <th>recommendation<\/th>\n",
       "      <th>verified<\/th>\n",
       "    <\/tr>\n",
       "  <\/thead>\n",
       "  <tbody>\n",
       "    <tr>\n",
       "      <th>0<\/th>\n",
       "      <td>I booked our first out of country trip to take...<\/td>\n",
       "      <td>5<\/td>\n",
       "      <td>8th June 2023<\/td>\n",
       "      <td>United States<\/td>\n",
       "      <td>3<\/td>\n",
       "      <td>4<\/td>\n",
       "      <td>3<\/td>\n",
       "      <td>1<\/td>\n",
       "      <td>no<\/td>\n",
       "      <td>True<\/td>\n",
       "    <\/tr>\n",
       "    <tr>\n",
       "      <th>1<\/th>\n",
       "      <td>My husband and I booked seats within our premi...<\/td>\n",
       "      <td>1<\/td>\n",
       "      <td>7th June 2023<\/td>\n",
       "      <td>United Kingdom<\/td>\n",
       "      <td>4<\/td>\n",
       "      <td>4<\/td>\n",
       "      <td>5<\/td>\n",
       "      <td>5<\/td>\n",
       "      <td>no<\/td>\n",
       "      <td>True<\/td>\n",
       "    <\/tr>\n",
       "    <tr>\n",
       "      <th>2<\/th>\n",
       "      <td>May 3, flew from Seattle to Heathrow then to E...<\/td>\n",
       "      <td>4<\/td>\n",
       "      <td>6th June 2023<\/td>\n",
       "      <td>United States<\/td>\n",
       "      <td>4<\/td>\n",
       "      <td>4<\/td>\n",
       "      <td>1<\/td>\n",
       "      <td>2<\/td>\n",
       "      <td>no<\/td>\n",
       "      <td>False<\/td>\n",
       "    <\/tr>\n",
       "    <tr>\n",
       "      <th>3<\/th>\n",
       "      <td>I went through three flights to reach my desti...<\/td>\n",
       "      <td>1<\/td>\n",
       "      <td>6th June 2023<\/td>\n",
       "      <td>Greece<\/td>\n",
       "      <td>2<\/td>\n",
       "      <td>5<\/td>\n",
       "      <td>4<\/td>\n",
       "      <td>5<\/td>\n",
       "      <td>no<\/td>\n",
       "      <td>True<\/td>\n",
       "    <\/tr>\n",
       "    <tr>\n",
       "      <th>4<\/th>\n",
       "      <td>An excellent flight in Club World on British A...<\/td>\n",
       "      <td>2<\/td>\n",
       "      <td>6th June 2023<\/td>\n",
       "      <td>United Kingdom<\/td>\n",
       "      <td>4<\/td>\n",
       "      <td>5<\/td>\n",
       "      <td>3<\/td>\n",
       "      <td>4<\/td>\n",
       "      <td>yes<\/td>\n",
       "      <td>True<\/td>\n",
       "    <\/tr>\n",
       "  <\/tbody>\n",
       "<\/table>\n",
       "<\/div>"
      ]
     },
     "metadata":{
      
     },
     "output_type":"display_data"
    }
   ],
   "metadata":{
    "datalore":{
     "node_id":"X0Vi2v554mhiPGsKDFzZdj",
     "type":"CODE",
     "hide_input_from_viewers":true,
     "hide_output_from_viewers":true
    }
   }
  },
  {
   "cell_type":"markdown",
   "source":[
    "## **Cleaning Format Date**"
   ],
   "attachments":{
    
   },
   "metadata":{
    "datalore":{
     "node_id":"huVQb7xNl8MqEBD3eJ3eQ9",
     "type":"MD",
     "hide_input_from_viewers":true,
     "hide_output_from_viewers":true
    }
   }
  },
  {
   "cell_type":"code",
   "source":[
    "df.dtypes"
   ],
   "execution_count":6,
   "outputs":[
    {
     "data":{
      "text\/html":[
       "<pre>reviews                  object\n",
       "rating_star               int64\n",
       "date                     object\n",
       "country                  object\n",
       "seat_rating               int64\n",
       "staff_rating              int64\n",
       "food_beverage_rating      int64\n",
       "ground_service_rating     int64\n",
       "recommendation           object\n",
       "verified                   bool\n",
       "dtype: object<\/pre>"
      ]
     },
     "metadata":{
      
     },
     "output_type":"display_data"
    }
   ],
   "metadata":{
    "datalore":{
     "node_id":"hyls0AMAFOUtp096t6roos",
     "type":"CODE",
     "hide_input_from_viewers":true,
     "hide_output_from_viewers":true
    }
   }
  },
  {
   "cell_type":"code",
   "source":[
    "df.date = pd.to_datetime(df.date)"
   ],
   "execution_count":7,
   "outputs":[
    
   ],
   "metadata":{
    "datalore":{
     "node_id":"Y1ChNQYc1mhjtYc1dfy1vP",
     "type":"CODE",
     "hide_input_from_viewers":true,
     "hide_output_from_viewers":true
    }
   }
  },
  {
   "cell_type":"code",
   "source":[
    "df.dtypes"
   ],
   "execution_count":8,
   "outputs":[
    {
     "data":{
      "text\/html":[
       "<pre>reviews                          object\n",
       "rating_star                       int64\n",
       "date                     datetime64[ns]\n",
       "country                          object\n",
       "seat_rating                       int64\n",
       "staff_rating                      int64\n",
       "food_beverage_rating              int64\n",
       "ground_service_rating             int64\n",
       "recommendation                   object\n",
       "verified                           bool\n",
       "dtype: object<\/pre>"
      ]
     },
     "metadata":{
      
     },
     "output_type":"display_data"
    }
   ],
   "metadata":{
    "datalore":{
     "node_id":"zIdeS3kPMH7r2NVz8eb0Ri",
     "type":"CODE",
     "hide_input_from_viewers":true,
     "hide_output_from_viewers":true
    }
   }
  },
  {
   "cell_type":"code",
   "source":[
    "df.head()"
   ],
   "execution_count":9,
   "outputs":[
    {
     "data":{
      "text\/html":[
       "<div>\n",
       "<style scoped>\n",
       "    .dataframe tbody tr th:only-of-type {\n",
       "        vertical-align: middle;\n",
       "    }\n",
       "\n",
       "    .dataframe tbody tr th {\n",
       "        vertical-align: top;\n",
       "    }\n",
       "\n",
       "    .dataframe thead th {\n",
       "        text-align: right;\n",
       "    }\n",
       "<\/style>\n",
       "<table border=\"1\" class=\"dataframe\">\n",
       "  <thead>\n",
       "    <tr style=\"text-align: right;\">\n",
       "      <th><\/th>\n",
       "      <th>reviews<\/th>\n",
       "      <th>rating_star<\/th>\n",
       "      <th>date<\/th>\n",
       "      <th>country<\/th>\n",
       "      <th>seat_rating<\/th>\n",
       "      <th>staff_rating<\/th>\n",
       "      <th>food_beverage_rating<\/th>\n",
       "      <th>ground_service_rating<\/th>\n",
       "      <th>recommendation<\/th>\n",
       "      <th>verified<\/th>\n",
       "    <\/tr>\n",
       "  <\/thead>\n",
       "  <tbody>\n",
       "    <tr>\n",
       "      <th>0<\/th>\n",
       "      <td>I booked our first out of country trip to take...<\/td>\n",
       "      <td>5<\/td>\n",
       "      <td>2023-06-08<\/td>\n",
       "      <td>United States<\/td>\n",
       "      <td>3<\/td>\n",
       "      <td>4<\/td>\n",
       "      <td>3<\/td>\n",
       "      <td>1<\/td>\n",
       "      <td>no<\/td>\n",
       "      <td>True<\/td>\n",
       "    <\/tr>\n",
       "    <tr>\n",
       "      <th>1<\/th>\n",
       "      <td>My husband and I booked seats within our premi...<\/td>\n",
       "      <td>1<\/td>\n",
       "      <td>2023-06-07<\/td>\n",
       "      <td>United Kingdom<\/td>\n",
       "      <td>4<\/td>\n",
       "      <td>4<\/td>\n",
       "      <td>5<\/td>\n",
       "      <td>5<\/td>\n",
       "      <td>no<\/td>\n",
       "      <td>True<\/td>\n",
       "    <\/tr>\n",
       "    <tr>\n",
       "      <th>2<\/th>\n",
       "      <td>May 3, flew from Seattle to Heathrow then to E...<\/td>\n",
       "      <td>4<\/td>\n",
       "      <td>2023-06-06<\/td>\n",
       "      <td>United States<\/td>\n",
       "      <td>4<\/td>\n",
       "      <td>4<\/td>\n",
       "      <td>1<\/td>\n",
       "      <td>2<\/td>\n",
       "      <td>no<\/td>\n",
       "      <td>False<\/td>\n",
       "    <\/tr>\n",
       "    <tr>\n",
       "      <th>3<\/th>\n",
       "      <td>I went through three flights to reach my desti...<\/td>\n",
       "      <td>1<\/td>\n",
       "      <td>2023-06-06<\/td>\n",
       "      <td>Greece<\/td>\n",
       "      <td>2<\/td>\n",
       "      <td>5<\/td>\n",
       "      <td>4<\/td>\n",
       "      <td>5<\/td>\n",
       "      <td>no<\/td>\n",
       "      <td>True<\/td>\n",
       "    <\/tr>\n",
       "    <tr>\n",
       "      <th>4<\/th>\n",
       "      <td>An excellent flight in Club World on British A...<\/td>\n",
       "      <td>2<\/td>\n",
       "      <td>2023-06-06<\/td>\n",
       "      <td>United Kingdom<\/td>\n",
       "      <td>4<\/td>\n",
       "      <td>5<\/td>\n",
       "      <td>3<\/td>\n",
       "      <td>4<\/td>\n",
       "      <td>yes<\/td>\n",
       "      <td>True<\/td>\n",
       "    <\/tr>\n",
       "  <\/tbody>\n",
       "<\/table>\n",
       "<\/div>"
      ]
     },
     "metadata":{
      
     },
     "output_type":"display_data"
    }
   ],
   "metadata":{
    "datalore":{
     "node_id":"p8q7tkcDHq0dfySRrwxYi2",
     "type":"CODE",
     "hide_input_from_viewers":true,
     "hide_output_from_viewers":true
    }
   }
  },
  {
   "cell_type":"code",
   "source":[
    "#Check for unique values\n",
    "df.rating_star.unique()"
   ],
   "execution_count":14,
   "outputs":[
    {
     "data":{
      "text\/html":[
       "<pre>array([ 5,  1,  4,  2,  9,  3, 10,  7,  8,  6])<\/pre>"
      ]
     },
     "metadata":{
      
     },
     "output_type":"display_data"
    }
   ],
   "metadata":{
    "datalore":{
     "node_id":"HmmOtgGwR3BfdCuabPsMpB",
     "type":"CODE",
     "hide_input_from_viewers":true,
     "hide_output_from_viewers":true
    }
   }
  },
  {
   "cell_type":"code",
   "source":[
    "df.rating_star.value_counts()"
   ],
   "execution_count":13,
   "outputs":[
    {
     "data":{
      "text\/html":[
       "<pre>1     676\n",
       "2     327\n",
       "3     317\n",
       "8     246\n",
       "7     204\n",
       "10    200\n",
       "5     198\n",
       "9     192\n",
       "4     182\n",
       "6     128\n",
       "Name: rating_star, dtype: int64<\/pre>"
      ]
     },
     "metadata":{
      
     },
     "output_type":"display_data"
    }
   ],
   "metadata":{
    "datalore":{
     "node_id":"hJIDnLBBWsmEx00SguDg6Z",
     "type":"CODE",
     "hide_input_from_viewers":true,
     "hide_output_from_viewers":true
    }
   }
  },
  {
   "cell_type":"markdown",
   "source":[
    "## **Check for null values**"
   ],
   "attachments":{
    
   },
   "metadata":{
    "datalore":{
     "node_id":"fPLtBZSQJXhTRRAITiaqz5",
     "type":"MD",
     "hide_input_from_viewers":true,
     "hide_output_from_viewers":true
    }
   }
  },
  {
   "cell_type":"code",
   "source":[
    "df.isnull().value_counts()"
   ],
   "execution_count":21,
   "outputs":[
    {
     "data":{
      "text\/html":[
       "<pre>reviews  rating_star  date   country  seat_rating  staff_rating  food_beverage_rating  ground_service_rating  recommendation  verified\n",
       "False    False        False  False    False        False         False                 False                  False           False       2670\n",
       "dtype: int64<\/pre>"
      ]
     },
     "metadata":{
      
     },
     "output_type":"display_data"
    }
   ],
   "metadata":{
    "datalore":{
     "node_id":"M1cksxT27jHEcVTwe9yby3",
     "type":"CODE",
     "hide_input_from_viewers":true,
     "hide_output_from_viewers":true
    }
   }
  },
  {
   "cell_type":"code",
   "source":[
    "df.head()"
   ],
   "execution_count":18,
   "outputs":[
    {
     "data":{
      "text\/html":[
       "<div>\n",
       "<style scoped>\n",
       "    .dataframe tbody tr th:only-of-type {\n",
       "        vertical-align: middle;\n",
       "    }\n",
       "\n",
       "    .dataframe tbody tr th {\n",
       "        vertical-align: top;\n",
       "    }\n",
       "\n",
       "    .dataframe thead th {\n",
       "        text-align: right;\n",
       "    }\n",
       "<\/style>\n",
       "<table border=\"1\" class=\"dataframe\">\n",
       "  <thead>\n",
       "    <tr style=\"text-align: right;\">\n",
       "      <th><\/th>\n",
       "      <th>reviews<\/th>\n",
       "      <th>rating_star<\/th>\n",
       "      <th>date<\/th>\n",
       "      <th>country<\/th>\n",
       "      <th>seat_rating<\/th>\n",
       "      <th>staff_rating<\/th>\n",
       "      <th>food_beverage_rating<\/th>\n",
       "      <th>ground_service_rating<\/th>\n",
       "      <th>recommendation<\/th>\n",
       "      <th>verified<\/th>\n",
       "    <\/tr>\n",
       "  <\/thead>\n",
       "  <tbody>\n",
       "    <tr>\n",
       "      <th>0<\/th>\n",
       "      <td>I booked our first out of country trip to take...<\/td>\n",
       "      <td>5<\/td>\n",
       "      <td>2023-06-08<\/td>\n",
       "      <td>United States<\/td>\n",
       "      <td>3<\/td>\n",
       "      <td>4<\/td>\n",
       "      <td>3<\/td>\n",
       "      <td>1<\/td>\n",
       "      <td>no<\/td>\n",
       "      <td>True<\/td>\n",
       "    <\/tr>\n",
       "    <tr>\n",
       "      <th>1<\/th>\n",
       "      <td>My husband and I booked seats within our premi...<\/td>\n",
       "      <td>1<\/td>\n",
       "      <td>2023-06-07<\/td>\n",
       "      <td>United Kingdom<\/td>\n",
       "      <td>4<\/td>\n",
       "      <td>4<\/td>\n",
       "      <td>5<\/td>\n",
       "      <td>5<\/td>\n",
       "      <td>no<\/td>\n",
       "      <td>True<\/td>\n",
       "    <\/tr>\n",
       "    <tr>\n",
       "      <th>2<\/th>\n",
       "      <td>May 3, flew from Seattle to Heathrow then to E...<\/td>\n",
       "      <td>4<\/td>\n",
       "      <td>2023-06-06<\/td>\n",
       "      <td>United States<\/td>\n",
       "      <td>4<\/td>\n",
       "      <td>4<\/td>\n",
       "      <td>1<\/td>\n",
       "      <td>2<\/td>\n",
       "      <td>no<\/td>\n",
       "      <td>False<\/td>\n",
       "    <\/tr>\n",
       "    <tr>\n",
       "      <th>3<\/th>\n",
       "      <td>I went through three flights to reach my desti...<\/td>\n",
       "      <td>1<\/td>\n",
       "      <td>2023-06-06<\/td>\n",
       "      <td>Greece<\/td>\n",
       "      <td>2<\/td>\n",
       "      <td>5<\/td>\n",
       "      <td>4<\/td>\n",
       "      <td>5<\/td>\n",
       "      <td>no<\/td>\n",
       "      <td>True<\/td>\n",
       "    <\/tr>\n",
       "    <tr>\n",
       "      <th>4<\/th>\n",
       "      <td>An excellent flight in Club World on British A...<\/td>\n",
       "      <td>2<\/td>\n",
       "      <td>2023-06-06<\/td>\n",
       "      <td>United Kingdom<\/td>\n",
       "      <td>4<\/td>\n",
       "      <td>5<\/td>\n",
       "      <td>3<\/td>\n",
       "      <td>4<\/td>\n",
       "      <td>yes<\/td>\n",
       "      <td>True<\/td>\n",
       "    <\/tr>\n",
       "  <\/tbody>\n",
       "<\/table>\n",
       "<\/div>"
      ]
     },
     "metadata":{
      
     },
     "output_type":"display_data"
    }
   ],
   "metadata":{
    "datalore":{
     "node_id":"7BR8CyatCY6u1goVZYSpAT",
     "type":"CODE",
     "hide_input_from_viewers":true,
     "hide_output_from_viewers":true
    }
   }
  },
  {
   "cell_type":"code",
   "source":[
    "df.tail()"
   ],
   "execution_count":19,
   "outputs":[
    {
     "data":{
      "text\/html":[
       "<div>\n",
       "<style scoped>\n",
       "    .dataframe tbody tr th:only-of-type {\n",
       "        vertical-align: middle;\n",
       "    }\n",
       "\n",
       "    .dataframe tbody tr th {\n",
       "        vertical-align: top;\n",
       "    }\n",
       "\n",
       "    .dataframe thead th {\n",
       "        text-align: right;\n",
       "    }\n",
       "<\/style>\n",
       "<table border=\"1\" class=\"dataframe\">\n",
       "  <thead>\n",
       "    <tr style=\"text-align: right;\">\n",
       "      <th><\/th>\n",
       "      <th>reviews<\/th>\n",
       "      <th>rating_star<\/th>\n",
       "      <th>date<\/th>\n",
       "      <th>country<\/th>\n",
       "      <th>seat_rating<\/th>\n",
       "      <th>staff_rating<\/th>\n",
       "      <th>food_beverage_rating<\/th>\n",
       "      <th>ground_service_rating<\/th>\n",
       "      <th>recommendation<\/th>\n",
       "      <th>verified<\/th>\n",
       "    <\/tr>\n",
       "  <\/thead>\n",
       "  <tbody>\n",
       "    <tr>\n",
       "      <th>2665<\/th>\n",
       "      <td>Flying out on Sunday received call from BA say...<\/td>\n",
       "      <td>8<\/td>\n",
       "      <td>2015-08-11<\/td>\n",
       "      <td>United Kingdom<\/td>\n",
       "      <td>1<\/td>\n",
       "      <td>5<\/td>\n",
       "      <td>3<\/td>\n",
       "      <td>4<\/td>\n",
       "      <td>yes<\/td>\n",
       "      <td>False<\/td>\n",
       "    <\/tr>\n",
       "    <tr>\n",
       "      <th>2666<\/th>\n",
       "      <td>Where shall I start, 4 hours delay or the days...<\/td>\n",
       "      <td>1<\/td>\n",
       "      <td>2015-08-11<\/td>\n",
       "      <td>Italy<\/td>\n",
       "      <td>2<\/td>\n",
       "      <td>5<\/td>\n",
       "      <td>2<\/td>\n",
       "      <td>5<\/td>\n",
       "      <td>no<\/td>\n",
       "      <td>False<\/td>\n",
       "    <\/tr>\n",
       "    <tr>\n",
       "      <th>2667<\/th>\n",
       "      <td>This was my first time on a long haul flight w...<\/td>\n",
       "      <td>3<\/td>\n",
       "      <td>2015-08-11<\/td>\n",
       "      <td>Ireland<\/td>\n",
       "      <td>2<\/td>\n",
       "      <td>3<\/td>\n",
       "      <td>0<\/td>\n",
       "      <td>5<\/td>\n",
       "      <td>yes<\/td>\n",
       "      <td>False<\/td>\n",
       "    <\/tr>\n",
       "    <tr>\n",
       "      <th>2668<\/th>\n",
       "      <td>I fly 95% for pleasure and often take advantag...<\/td>\n",
       "      <td>1<\/td>\n",
       "      <td>2015-08-11<\/td>\n",
       "      <td>United Kingdom<\/td>\n",
       "      <td>2<\/td>\n",
       "      <td>5<\/td>\n",
       "      <td>1<\/td>\n",
       "      <td>3<\/td>\n",
       "      <td>yes<\/td>\n",
       "      <td>False<\/td>\n",
       "    <\/tr>\n",
       "    <tr>\n",
       "      <th>2669<\/th>\n",
       "      <td>Staff was helpful in both cities. The plane wa...<\/td>\n",
       "      <td>10<\/td>\n",
       "      <td>2015-08-11<\/td>\n",
       "      <td>United States<\/td>\n",
       "      <td>1<\/td>\n",
       "      <td>5<\/td>\n",
       "      <td>5<\/td>\n",
       "      <td>5<\/td>\n",
       "      <td>yes<\/td>\n",
       "      <td>False<\/td>\n",
       "    <\/tr>\n",
       "  <\/tbody>\n",
       "<\/table>\n",
       "<\/div>"
      ]
     },
     "metadata":{
      
     },
     "output_type":"display_data"
    }
   ],
   "metadata":{
    "datalore":{
     "node_id":"ciil2JprXVtoPzQLBFaW8a",
     "type":"CODE",
     "hide_input_from_viewers":true,
     "hide_output_from_viewers":true
    }
   }
  },
  {
   "cell_type":"code",
   "source":[
    "df.to_csv(\"BA_reviews_cleaned.csv\")"
   ],
   "execution_count":20,
   "outputs":[
    
   ],
   "metadata":{
    "datalore":{
     "node_id":"3jkPTf3kM69U7lqrET6gSQ",
     "type":"CODE",
     "hide_input_from_viewers":true,
     "hide_output_from_viewers":true
    }
   }
  }
 ],
 "metadata":{
  "kernelspec":{
   "display_name":"Python",
   "language":"python",
   "name":"python"
  },
  "datalore":{
   "computation_mode":"JUPYTER",
   "package_manager":"pip",
   "base_environment":"default",
   "packages":[
    
   ],
   "report_row_ids":[
    
   ],
   "version":3
  }
 },
 "nbformat":4,
 "nbformat_minor":4
}
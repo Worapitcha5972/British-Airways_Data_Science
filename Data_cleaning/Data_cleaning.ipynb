{
 "cells":[
  {
   "cell_type":"markdown",
   "source":[
    "# **Data Cleaning**"
   ],
   "attachments":{
    
   },
   "metadata":{
    "datalore":{
     "node_id":"PGbYh2ytyARSijKeOu8cjf",
     "type":"MD",
     "hide_input_from_viewers":false,
     "hide_output_from_viewers":false
    }
   }
  },
  {
   "cell_type":"code",
   "source":[
    "import pandas as pd\n",
    "import numpy as np\n",
    "import os"
   ],
   "execution_count":85,
   "outputs":[
    
   ],
   "metadata":{
    "datalore":{
     "node_id":"3OnEwtYBevGkOVGwU1QBsH",
     "type":"CODE",
     "hide_input_from_viewers":false,
     "hide_output_from_viewers":false
    }
   }
  },
  {
   "cell_type":"code",
   "source":[
    "cwd = os.getcwd()\n",
    "\n",
    "df = pd.read_csv(cwd+\"\/BA_reviews.csv\", index_col=0)"
   ],
   "execution_count":86,
   "outputs":[
    
   ],
   "metadata":{
    "datalore":{
     "node_id":"VyhkAgIJi1U5pJphPMMMm6",
     "type":"CODE",
     "hide_input_from_viewers":false,
     "hide_output_from_viewers":false
    }
   }
  },
  {
   "cell_type":"code",
   "source":[
    "#Create column 'verified' to identify which user is verified \n",
    "df['verified'] = df.reviews.str.contains(\"Trip Verified\")"
   ],
   "execution_count":87,
   "outputs":[
    
   ],
   "metadata":{
    "datalore":{
     "node_id":"SgWXf7Uv14dgdGdSIQuj8U",
     "type":"CODE",
     "hide_input_from_viewers":false,
     "hide_output_from_viewers":false
    }
   }
  },
  {
   "cell_type":"markdown",
   "source":[
    "## **Cleaning Reviews**"
   ],
   "attachments":{
    
   },
   "metadata":{
    "datalore":{
     "node_id":"hYZ3fq7Ky9JyHugNAaw1IT",
     "type":"MD",
     "hide_input_from_viewers":false,
     "hide_output_from_viewers":false
    }
   }
  },
  {
   "cell_type":"code",
   "source":[
    "#Remove 'Trip Verified' and 'Not Verified' \n",
    "df['reviews'] = df['reviews'].apply(lambda x: x.split('|')[-1].strip())"
   ],
   "execution_count":88,
   "outputs":[
    
   ],
   "metadata":{
    "datalore":{
     "node_id":"lIFOJ9eznBp2Y74JzK3nsn",
     "type":"CODE",
     "hide_input_from_viewers":false,
     "hide_output_from_viewers":false
    }
   }
  },
  {
   "cell_type":"code",
   "source":[
    "df.head()"
   ],
   "execution_count":89,
   "outputs":[
    {
     "data":{
      "text\/html":[
       "<div>\n",
       "<style scoped>\n",
       "    .dataframe tbody tr th:only-of-type {\n",
       "        vertical-align: middle;\n",
       "    }\n",
       "\n",
       "    .dataframe tbody tr th {\n",
       "        vertical-align: top;\n",
       "    }\n",
       "\n",
       "    .dataframe thead th {\n",
       "        text-align: right;\n",
       "    }\n",
       "<\/style>\n",
       "<table border=\"1\" class=\"dataframe\">\n",
       "  <thead>\n",
       "    <tr style=\"text-align: right;\">\n",
       "      <th><\/th>\n",
       "      <th>reviews<\/th>\n",
       "      <th>stars<\/th>\n",
       "      <th>date<\/th>\n",
       "      <th>country<\/th>\n",
       "      <th>verified<\/th>\n",
       "    <\/tr>\n",
       "  <\/thead>\n",
       "  <tbody>\n",
       "    <tr>\n",
       "      <th>0<\/th>\n",
       "      <td>We are flying Business class for most of our f...<\/td>\n",
       "      <td>\\n\\t\\t\\t\\t\\t\\t\\t\\t\\t\\t\\t\\t\\t5<\/td>\n",
       "      <td>8th March 2023<\/td>\n",
       "      <td>United States<\/td>\n",
       "      <td>False<\/td>\n",
       "    <\/tr>\n",
       "    <tr>\n",
       "      <th>1<\/th>\n",
       "      <td>I am in Australia and on Friday night, went on...<\/td>\n",
       "      <td>1<\/td>\n",
       "      <td>6th March 2023<\/td>\n",
       "      <td>Australia<\/td>\n",
       "      <td>True<\/td>\n",
       "    <\/tr>\n",
       "    <tr>\n",
       "      <th>2<\/th>\n",
       "      <td>At 7.54 am on the day of travel whilst driving...<\/td>\n",
       "      <td>1<\/td>\n",
       "      <td>4th March 2023<\/td>\n",
       "      <td>United Kingdom<\/td>\n",
       "      <td>True<\/td>\n",
       "    <\/tr>\n",
       "    <tr>\n",
       "      <th>3<\/th>\n",
       "      <td>Would happily fly them again. I had a personal...<\/td>\n",
       "      <td>2<\/td>\n",
       "      <td>2nd March 2023<\/td>\n",
       "      <td>United States<\/td>\n",
       "      <td>True<\/td>\n",
       "    <\/tr>\n",
       "    <tr>\n",
       "      <th>4<\/th>\n",
       "      <td>Flew premium, only worth the extra money for t...<\/td>\n",
       "      <td>10<\/td>\n",
       "      <td>2nd March 2023<\/td>\n",
       "      <td>United Kingdom<\/td>\n",
       "      <td>False<\/td>\n",
       "    <\/tr>\n",
       "  <\/tbody>\n",
       "<\/table>\n",
       "<\/div>"
      ]
     },
     "metadata":{
      
     },
     "output_type":"display_data"
    }
   ],
   "metadata":{
    "datalore":{
     "node_id":"X0Vi2v554mhiPGsKDFzZdj",
     "type":"CODE",
     "hide_input_from_viewers":false,
     "hide_output_from_viewers":false
    }
   }
  },
  {
   "cell_type":"markdown",
   "source":[
    "## **Cleaning Format Date**"
   ],
   "attachments":{
    
   },
   "metadata":{
    "datalore":{
     "node_id":"huVQb7xNl8MqEBD3eJ3eQ9",
     "type":"MD",
     "hide_input_from_viewers":false,
     "hide_output_from_viewers":false
    }
   }
  },
  {
   "cell_type":"code",
   "source":[
    "df.dtypes"
   ],
   "execution_count":90,
   "outputs":[
    {
     "data":{
      "text\/html":[
       "<pre>reviews     object\n",
       "stars       object\n",
       "date        object\n",
       "country     object\n",
       "verified      bool\n",
       "dtype: object<\/pre>"
      ]
     },
     "metadata":{
      
     },
     "output_type":"display_data"
    }
   ],
   "metadata":{
    "datalore":{
     "node_id":"hyls0AMAFOUtp096t6roos",
     "type":"CODE",
     "hide_input_from_viewers":false,
     "hide_output_from_viewers":false
    }
   }
  },
  {
   "cell_type":"code",
   "source":[
    "df.date = pd.to_datetime(df.date)"
   ],
   "execution_count":91,
   "outputs":[
    
   ],
   "metadata":{
    "datalore":{
     "node_id":"Y1ChNQYc1mhjtYc1dfy1vP",
     "type":"CODE",
     "hide_input_from_viewers":false,
     "hide_output_from_viewers":false
    }
   }
  },
  {
   "cell_type":"code",
   "source":[
    "df.dtypes"
   ],
   "execution_count":92,
   "outputs":[
    {
     "data":{
      "text\/html":[
       "<pre>reviews             object\n",
       "stars               object\n",
       "date        datetime64[ns]\n",
       "country             object\n",
       "verified              bool\n",
       "dtype: object<\/pre>"
      ]
     },
     "metadata":{
      
     },
     "output_type":"display_data"
    }
   ],
   "metadata":{
    "datalore":{
     "node_id":"zIdeS3kPMH7r2NVz8eb0Ri",
     "type":"CODE",
     "hide_input_from_viewers":false,
     "hide_output_from_viewers":false
    }
   }
  },
  {
   "cell_type":"code",
   "source":[
    "df.head()"
   ],
   "execution_count":93,
   "outputs":[
    {
     "data":{
      "text\/html":[
       "<div>\n",
       "<style scoped>\n",
       "    .dataframe tbody tr th:only-of-type {\n",
       "        vertical-align: middle;\n",
       "    }\n",
       "\n",
       "    .dataframe tbody tr th {\n",
       "        vertical-align: top;\n",
       "    }\n",
       "\n",
       "    .dataframe thead th {\n",
       "        text-align: right;\n",
       "    }\n",
       "<\/style>\n",
       "<table border=\"1\" class=\"dataframe\">\n",
       "  <thead>\n",
       "    <tr style=\"text-align: right;\">\n",
       "      <th><\/th>\n",
       "      <th>reviews<\/th>\n",
       "      <th>stars<\/th>\n",
       "      <th>date<\/th>\n",
       "      <th>country<\/th>\n",
       "      <th>verified<\/th>\n",
       "    <\/tr>\n",
       "  <\/thead>\n",
       "  <tbody>\n",
       "    <tr>\n",
       "      <th>0<\/th>\n",
       "      <td>We are flying Business class for most of our f...<\/td>\n",
       "      <td>\\n\\t\\t\\t\\t\\t\\t\\t\\t\\t\\t\\t\\t\\t5<\/td>\n",
       "      <td>2023-03-08<\/td>\n",
       "      <td>United States<\/td>\n",
       "      <td>False<\/td>\n",
       "    <\/tr>\n",
       "    <tr>\n",
       "      <th>1<\/th>\n",
       "      <td>I am in Australia and on Friday night, went on...<\/td>\n",
       "      <td>1<\/td>\n",
       "      <td>2023-03-06<\/td>\n",
       "      <td>Australia<\/td>\n",
       "      <td>True<\/td>\n",
       "    <\/tr>\n",
       "    <tr>\n",
       "      <th>2<\/th>\n",
       "      <td>At 7.54 am on the day of travel whilst driving...<\/td>\n",
       "      <td>1<\/td>\n",
       "      <td>2023-03-04<\/td>\n",
       "      <td>United Kingdom<\/td>\n",
       "      <td>True<\/td>\n",
       "    <\/tr>\n",
       "    <tr>\n",
       "      <th>3<\/th>\n",
       "      <td>Would happily fly them again. I had a personal...<\/td>\n",
       "      <td>2<\/td>\n",
       "      <td>2023-03-02<\/td>\n",
       "      <td>United States<\/td>\n",
       "      <td>True<\/td>\n",
       "    <\/tr>\n",
       "    <tr>\n",
       "      <th>4<\/th>\n",
       "      <td>Flew premium, only worth the extra money for t...<\/td>\n",
       "      <td>10<\/td>\n",
       "      <td>2023-03-02<\/td>\n",
       "      <td>United Kingdom<\/td>\n",
       "      <td>False<\/td>\n",
       "    <\/tr>\n",
       "  <\/tbody>\n",
       "<\/table>\n",
       "<\/div>"
      ]
     },
     "metadata":{
      
     },
     "output_type":"display_data"
    }
   ],
   "metadata":{
    "datalore":{
     "node_id":"p8q7tkcDHq0dfySRrwxYi2",
     "type":"CODE",
     "hide_input_from_viewers":false,
     "hide_output_from_viewers":false
    }
   }
  },
  {
   "cell_type":"markdown",
   "source":[
    "## **Cleaning Rating Stars**"
   ],
   "attachments":{
    
   },
   "metadata":{
    "datalore":{
     "node_id":"51D7IHGHSIBN3SPvRsyMty",
     "type":"MD",
     "hide_input_from_viewers":false,
     "hide_output_from_viewers":false
    }
   }
  },
  {
   "cell_type":"code",
   "source":[
    "#Check for unique values\n",
    "df.stars.unique()"
   ],
   "execution_count":94,
   "outputs":[
    {
     "data":{
      "text\/html":[
       "<pre>array(['\\n\\t\\t\\t\\t\\t\\t\\t\\t\\t\\t\\t\\t\\t5', '1', '2', '10', '4', '8', '6',\n",
       "       '7', '5', '9', '3', 'None'], dtype=object)<\/pre>"
      ]
     },
     "metadata":{
      
     },
     "output_type":"display_data"
    }
   ],
   "metadata":{
    "datalore":{
     "node_id":"HmmOtgGwR3BfdCuabPsMpB",
     "type":"CODE",
     "hide_input_from_viewers":false,
     "hide_output_from_viewers":false
    }
   }
  },
  {
   "cell_type":"code",
   "source":[
    "df.stars.value_counts()"
   ],
   "execution_count":95,
   "outputs":[
    {
     "data":{
      "text\/html":[
       "<pre>1                                689\n",
       "3                                352\n",
       "2                                350\n",
       "8                                298\n",
       "7                                250\n",
       "10                               247\n",
       "9                                236\n",
       "4                                208\n",
       "5                                189\n",
       "6                                150\n",
       "\\n\\t\\t\\t\\t\\t\\t\\t\\t\\t\\t\\t\\t\\t5     30\n",
       "None                               1\n",
       "Name: stars, dtype: int64<\/pre>"
      ]
     },
     "metadata":{
      
     },
     "output_type":"display_data"
    }
   ],
   "metadata":{
    "datalore":{
     "node_id":"hJIDnLBBWsmEx00SguDg6Z",
     "type":"CODE",
     "hide_input_from_viewers":false,
     "hide_output_from_viewers":false
    }
   }
  },
  {
   "cell_type":"code",
   "source":[
    "#Remove the \\n and \\t \n",
    "df.stars = df.stars.str.strip(\"\\n\\t\\t\\t\\t\\t\\t\\t\\t\\t\\t\\t\\t\\t\")"
   ],
   "execution_count":96,
   "outputs":[
    
   ],
   "metadata":{
    "datalore":{
     "node_id":"eKtoWH5t6wiwDFvI4PqvtX",
     "type":"CODE",
     "hide_input_from_viewers":false,
     "hide_output_from_viewers":false
    }
   }
  },
  {
   "cell_type":"code",
   "source":[
    "#Remove row where the value is None\n",
    "df.drop(df[df.stars == \"None\"].index, axis=0, inplace=True)"
   ],
   "execution_count":97,
   "outputs":[
    
   ],
   "metadata":{
    "datalore":{
     "node_id":"kalXXHfdzO17AiE2GMiqme",
     "type":"CODE",
     "hide_input_from_viewers":false,
     "hide_output_from_viewers":false
    }
   }
  },
  {
   "cell_type":"markdown",
   "source":[
    "## **Check for null values**"
   ],
   "attachments":{
    
   },
   "metadata":{
    "datalore":{
     "node_id":"fPLtBZSQJXhTRRAITiaqz5",
     "type":"MD",
     "hide_input_from_viewers":false,
     "hide_output_from_viewers":false
    }
   }
  },
  {
   "cell_type":"code",
   "source":[
    "df.isnull().value_counts()"
   ],
   "execution_count":99,
   "outputs":[
    {
     "data":{
      "text\/html":[
       "<pre>reviews  stars  date   country  verified\n",
       "False    False  False  False    False       2998\n",
       "                       True     False          1\n",
       "dtype: int64<\/pre>"
      ]
     },
     "metadata":{
      
     },
     "output_type":"display_data"
    }
   ],
   "metadata":{
    "datalore":{
     "node_id":"M1cksxT27jHEcVTwe9yby3",
     "type":"CODE",
     "hide_input_from_viewers":false,
     "hide_output_from_viewers":false
    }
   }
  },
  {
   "cell_type":"code",
   "source":[
    "df.country.isnull().value_counts()"
   ],
   "execution_count":100,
   "outputs":[
    {
     "data":{
      "text\/html":[
       "<pre>False    2998\n",
       "True        1\n",
       "Name: country, dtype: int64<\/pre>"
      ]
     },
     "metadata":{
      
     },
     "output_type":"display_data"
    }
   ],
   "metadata":{
    "datalore":{
     "node_id":"RD8LsjUQ5vtsUEccFmtSoE",
     "type":"CODE",
     "hide_input_from_viewers":false,
     "hide_output_from_viewers":false
    }
   }
  },
  {
   "cell_type":"code",
   "source":[
    "#Remove rows with null values in 'country' column\n",
    "df = df.dropna(subset=['country'])"
   ],
   "execution_count":101,
   "outputs":[
    
   ],
   "metadata":{
    "datalore":{
     "node_id":"g2bOiHWVQQdxXb0dTNXiE9",
     "type":"CODE",
     "hide_input_from_viewers":false,
     "hide_output_from_viewers":false
    }
   }
  },
  {
   "cell_type":"code",
   "source":[
    "df.head()"
   ],
   "execution_count":103,
   "outputs":[
    {
     "data":{
      "text\/html":[
       "<div>\n",
       "<style scoped>\n",
       "    .dataframe tbody tr th:only-of-type {\n",
       "        vertical-align: middle;\n",
       "    }\n",
       "\n",
       "    .dataframe tbody tr th {\n",
       "        vertical-align: top;\n",
       "    }\n",
       "\n",
       "    .dataframe thead th {\n",
       "        text-align: right;\n",
       "    }\n",
       "<\/style>\n",
       "<table border=\"1\" class=\"dataframe\">\n",
       "  <thead>\n",
       "    <tr style=\"text-align: right;\">\n",
       "      <th><\/th>\n",
       "      <th>reviews<\/th>\n",
       "      <th>stars<\/th>\n",
       "      <th>date<\/th>\n",
       "      <th>country<\/th>\n",
       "      <th>verified<\/th>\n",
       "    <\/tr>\n",
       "  <\/thead>\n",
       "  <tbody>\n",
       "    <tr>\n",
       "      <th>0<\/th>\n",
       "      <td>We are flying Business class for most of our f...<\/td>\n",
       "      <td>5<\/td>\n",
       "      <td>2023-03-08<\/td>\n",
       "      <td>United States<\/td>\n",
       "      <td>False<\/td>\n",
       "    <\/tr>\n",
       "    <tr>\n",
       "      <th>1<\/th>\n",
       "      <td>I am in Australia and on Friday night, went on...<\/td>\n",
       "      <td>1<\/td>\n",
       "      <td>2023-03-06<\/td>\n",
       "      <td>Australia<\/td>\n",
       "      <td>True<\/td>\n",
       "    <\/tr>\n",
       "    <tr>\n",
       "      <th>2<\/th>\n",
       "      <td>At 7.54 am on the day of travel whilst driving...<\/td>\n",
       "      <td>1<\/td>\n",
       "      <td>2023-03-04<\/td>\n",
       "      <td>United Kingdom<\/td>\n",
       "      <td>True<\/td>\n",
       "    <\/tr>\n",
       "    <tr>\n",
       "      <th>3<\/th>\n",
       "      <td>Would happily fly them again. I had a personal...<\/td>\n",
       "      <td>2<\/td>\n",
       "      <td>2023-03-02<\/td>\n",
       "      <td>United States<\/td>\n",
       "      <td>True<\/td>\n",
       "    <\/tr>\n",
       "    <tr>\n",
       "      <th>4<\/th>\n",
       "      <td>Flew premium, only worth the extra money for t...<\/td>\n",
       "      <td>10<\/td>\n",
       "      <td>2023-03-02<\/td>\n",
       "      <td>United Kingdom<\/td>\n",
       "      <td>False<\/td>\n",
       "    <\/tr>\n",
       "  <\/tbody>\n",
       "<\/table>\n",
       "<\/div>"
      ]
     },
     "metadata":{
      
     },
     "output_type":"display_data"
    }
   ],
   "metadata":{
    "datalore":{
     "node_id":"7BR8CyatCY6u1goVZYSpAT",
     "type":"CODE",
     "hide_input_from_viewers":false,
     "hide_output_from_viewers":false
    }
   }
  },
  {
   "cell_type":"code",
   "source":[
    "df.tail()"
   ],
   "execution_count":104,
   "outputs":[
    {
     "data":{
      "text\/html":[
       "<div>\n",
       "<style scoped>\n",
       "    .dataframe tbody tr th:only-of-type {\n",
       "        vertical-align: middle;\n",
       "    }\n",
       "\n",
       "    .dataframe tbody tr th {\n",
       "        vertical-align: top;\n",
       "    }\n",
       "\n",
       "    .dataframe thead th {\n",
       "        text-align: right;\n",
       "    }\n",
       "<\/style>\n",
       "<table border=\"1\" class=\"dataframe\">\n",
       "  <thead>\n",
       "    <tr style=\"text-align: right;\">\n",
       "      <th><\/th>\n",
       "      <th>reviews<\/th>\n",
       "      <th>stars<\/th>\n",
       "      <th>date<\/th>\n",
       "      <th>country<\/th>\n",
       "      <th>verified<\/th>\n",
       "    <\/tr>\n",
       "  <\/thead>\n",
       "  <tbody>\n",
       "    <tr>\n",
       "      <th>2995<\/th>\n",
       "      <td>LHR-JNB-CPT. Upper deck on A380. 2x3x2 arrange...<\/td>\n",
       "      <td>3<\/td>\n",
       "      <td>2015-01-11<\/td>\n",
       "      <td>United Kingdom<\/td>\n",
       "      <td>False<\/td>\n",
       "    <\/tr>\n",
       "    <tr>\n",
       "      <th>2996<\/th>\n",
       "      <td>Los Angeles - Heathrow - Los Angeles over the ...<\/td>\n",
       "      <td>3<\/td>\n",
       "      <td>2015-01-11<\/td>\n",
       "      <td>United Kingdom<\/td>\n",
       "      <td>False<\/td>\n",
       "    <\/tr>\n",
       "    <tr>\n",
       "      <th>2997<\/th>\n",
       "      <td>Travelled Club from MIA to LHR last week havin...<\/td>\n",
       "      <td>6<\/td>\n",
       "      <td>2015-01-05<\/td>\n",
       "      <td>United Kingdom<\/td>\n",
       "      <td>False<\/td>\n",
       "    <\/tr>\n",
       "    <tr>\n",
       "      <th>2998<\/th>\n",
       "      <td>Had a good BA flight out to Barcelona but foun...<\/td>\n",
       "      <td>3<\/td>\n",
       "      <td>2015-01-05<\/td>\n",
       "      <td>United Kingdom<\/td>\n",
       "      <td>False<\/td>\n",
       "    <\/tr>\n",
       "    <tr>\n",
       "      <th>2999<\/th>\n",
       "      <td>LIS-LHR-VIE on Dec. 8 both legs on an Airbus 3...<\/td>\n",
       "      <td>8<\/td>\n",
       "      <td>2015-01-05<\/td>\n",
       "      <td>Austria<\/td>\n",
       "      <td>False<\/td>\n",
       "    <\/tr>\n",
       "  <\/tbody>\n",
       "<\/table>\n",
       "<\/div>"
      ]
     },
     "metadata":{
      
     },
     "output_type":"display_data"
    }
   ],
   "metadata":{
    "datalore":{
     "node_id":"ciil2JprXVtoPzQLBFaW8a",
     "type":"CODE",
     "hide_input_from_viewers":false,
     "hide_output_from_viewers":false
    }
   }
  },
  {
   "cell_type":"code",
   "source":[
    "df.to_csv(\"BA_reviews_clean.csv\")"
   ],
   "execution_count":106,
   "outputs":[
    
   ],
   "metadata":{
    "datalore":{
     "node_id":"3jkPTf3kM69U7lqrET6gSQ",
     "type":"CODE",
     "hide_input_from_viewers":false,
     "hide_output_from_viewers":false
    }
   }
  }
 ],
 "metadata":{
  "kernelspec":{
   "display_name":"Python",
   "language":"python",
   "name":"python"
  },
  "datalore":{
   "version":1,
   "computation_mode":"JUPYTER",
   "package_manager":"pip",
   "base_environment":"default",
   "packages":[
    
   ]
  }
 },
 "nbformat":4,
 "nbformat_minor":4
}
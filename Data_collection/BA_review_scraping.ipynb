{
 "cells":[
  {
   "cell_type":"code",
   "source":[
    "import pandas as pd\n",
    "import requests\n",
    "from bs4 import BeautifulSoup"
   ],
   "execution_count":3,
   "outputs":[
    
   ],
   "metadata":{
    "datalore":{
     "node_id":"wi6P2kz1vj2pFvJnTbeOf5",
     "type":"CODE",
     "hide_input_from_viewers":false,
     "hide_output_from_viewers":false,
     "report_properties":{
      "y":0
     }
    }
   }
  },
  {
   "cell_type":"code",
   "source":[
    "url = \"https:\/\/www.airlinequality.com\/airline-reviews\/british-airways\"\n",
    "pages = 30\n",
    "page_size = 100\n",
    "\n",
    "reviews = []\n",
    "stars = []\n",
    "date = []\n",
    "country = []\n",
    "\n",
    "for i in range(1, pages + 1):\n",
    "\n",
    "    review_url = f\"{url}\/page\/{i}\/?sortby=post_date%3ADesc&pagesize={page_size}\"\n",
    "    resp = requests.get(review_url)\n",
    "\n",
    "    cont = resp.content\n",
    "    pars_cont = BeautifulSoup(cont, 'html.parser')\n",
    "    for par in pars_cont.find_all(\"div\", {\"class\":\"text_content\"}):\n",
    "        reviews.append(par.get_text())\n",
    "\n",
    "    for par in pars_cont.find_all(\"div\", {\"class\":\"rating-10\"}):\n",
    "        try:\n",
    "            stars.append(par.span.text)\n",
    "        except:\n",
    "            print(f\"Missing rating star on page {i}\")\n",
    "            stars.append(\"None\")\n",
    "\n",
    "    for par in pars_cont.find_all(\"h3\"):\n",
    "        date.append(par.time.text)\n",
    "    \n",
    "    for par in pars_cont.find_all(\"h3\"):\n",
    "        country.append(par.span.next_sibling.text.strip( \" ()\"))\n",
    "\n",
    "    "
   ],
   "execution_count":4,
   "outputs":[
    {
     "name":"stdout",
     "text":[
      "Missing rating star on page 30\n"
     ],
     "output_type":"stream"
    }
   ],
   "metadata":{
    "datalore":{
     "node_id":"3MXGwyfjJM1ZQDLqjTKN3l",
     "type":"CODE",
     "hide_input_from_viewers":false,
     "hide_output_from_viewers":false,
     "report_properties":{
      "y":4
     }
    }
   }
  },
  {
   "cell_type":"code",
   "source":[
    "len(reviews)"
   ],
   "execution_count":31,
   "outputs":[
    {
     "data":{
      "text\/plain":[
       "3000"
      ]
     },
     "metadata":{
      
     },
     "output_type":"display_data"
    }
   ],
   "metadata":{
    "datalore":{
     "node_id":"KDqrzPPj3Xphc5VVzYJ9FM",
     "type":"CODE",
     "hide_input_from_viewers":false,
     "hide_output_from_viewers":false,
     "report_properties":{
      "y":22
     }
    }
   }
  },
  {
   "cell_type":"code",
   "source":[
    "stars = stars[:3000]"
   ],
   "execution_count":7,
   "outputs":[
    
   ],
   "metadata":{
    "datalore":{
     "node_id":"pEW8il1OGxVUHQKBVW9Y12",
     "type":"CODE",
     "hide_input_from_viewers":false,
     "hide_output_from_viewers":false,
     "report_properties":{
      "y":26
     }
    }
   }
  },
  {
   "cell_type":"code",
   "source":[
    "df = pd.DataFrame({\"reviews\": reviews, \"stars\": stars, \"date\": date, \"country\": country})"
   ],
   "execution_count":8,
   "outputs":[
    
   ],
   "metadata":{
    "datalore":{
     "node_id":"ZhifVLiH2ah1vaq8rMIQ0Q",
     "type":"CODE",
     "hide_input_from_viewers":false,
     "hide_output_from_viewers":false,
     "report_properties":{
      "y":29
     }
    }
   }
  },
  {
   "cell_type":"code",
   "source":[
    "df.head()"
   ],
   "execution_count":43,
   "outputs":[
    {
     "data":{
      "text\/html":[
       "<div>\n",
       "<style scoped>\n",
       "    .dataframe tbody tr th:only-of-type {\n",
       "        vertical-align: middle;\n",
       "    }\n",
       "\n",
       "    .dataframe tbody tr th {\n",
       "        vertical-align: top;\n",
       "    }\n",
       "\n",
       "    .dataframe thead th {\n",
       "        text-align: right;\n",
       "    }\n",
       "<\/style>\n",
       "<table border=\"1\" class=\"dataframe\">\n",
       "  <thead>\n",
       "    <tr style=\"text-align: right;\">\n",
       "      <th><\/th>\n",
       "      <th>reviews<\/th>\n",
       "      <th>stars<\/th>\n",
       "      <th>date<\/th>\n",
       "      <th>country<\/th>\n",
       "    <\/tr>\n",
       "  <\/thead>\n",
       "  <tbody>\n",
       "    <tr>\n",
       "      <th>0<\/th>\n",
       "      <td>Not Verified |  We are flying Business class f...<\/td>\n",
       "      <td>\\n\\t\\t\\t\\t\\t\\t\\t\\t\\t\\t\\t\\t\\t5<\/td>\n",
       "      <td>8th March 2023<\/td>\n",
       "      <td>United States<\/td>\n",
       "    <\/tr>\n",
       "    <tr>\n",
       "      <th>1<\/th>\n",
       "      <td>✅ Trip Verified |  I am in Australia and on Fr...<\/td>\n",
       "      <td>1<\/td>\n",
       "      <td>6th March 2023<\/td>\n",
       "      <td>Australia<\/td>\n",
       "    <\/tr>\n",
       "    <tr>\n",
       "      <th>2<\/th>\n",
       "      <td>✅ Trip Verified |  At 7.54 am on the day of tr...<\/td>\n",
       "      <td>1<\/td>\n",
       "      <td>4th March 2023<\/td>\n",
       "      <td>United Kingdom<\/td>\n",
       "    <\/tr>\n",
       "    <tr>\n",
       "      <th>3<\/th>\n",
       "      <td>✅ Trip Verified |  Would happily fly them agai...<\/td>\n",
       "      <td>2<\/td>\n",
       "      <td>2nd March 2023<\/td>\n",
       "      <td>United States<\/td>\n",
       "    <\/tr>\n",
       "    <tr>\n",
       "      <th>4<\/th>\n",
       "      <td>Not Verified |  Flew premium, only worth the e...<\/td>\n",
       "      <td>10<\/td>\n",
       "      <td>2nd March 2023<\/td>\n",
       "      <td>United Kingdom<\/td>\n",
       "    <\/tr>\n",
       "  <\/tbody>\n",
       "<\/table>\n",
       "<\/div>"
      ]
     },
     "metadata":{
      
     },
     "output_type":"display_data"
    }
   ],
   "metadata":{
    "datalore":{
     "node_id":"7O6fQWSnfM3bEfVU9odiTb",
     "type":"CODE",
     "hide_input_from_viewers":false,
     "hide_output_from_viewers":false,
     "report_properties":{
      "y":32
     }
    }
   }
  },
  {
   "cell_type":"code",
   "source":[
    "df.to_csv(\"BA_reviews.csv\")"
   ],
   "execution_count":10,
   "outputs":[
    
   ],
   "metadata":{
    "datalore":{
     "node_id":"Dh0jah7AJ0Gr9IH3zNQzsK",
     "type":"CODE",
     "hide_input_from_viewers":false,
     "hide_output_from_viewers":false,
     "report_properties":{
      "y":40
     }
    }
   }
  }
 ],
 "metadata":{
  "kernelspec":{
   "display_name":"Python",
   "language":"python",
   "name":"python"
  },
  "datalore":{
   "version":1,
   "computation_mode":"JUPYTER",
   "package_manager":"pip",
   "base_environment":"default",
   "packages":[
    
   ]
  }
 },
 "nbformat":4,
 "nbformat_minor":4
}
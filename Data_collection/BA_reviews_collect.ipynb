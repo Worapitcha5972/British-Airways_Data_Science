{
 "cells":[
  {
   "cell_type":"code",
   "source":[
    "import pandas as pd\n",
    "import requests\n",
    "from bs4 import BeautifulSoup"
   ],
   "execution_count":16,
   "outputs":[
    
   ],
   "metadata":{
    "datalore":{
     "node_id":"2vG8MR90oqepotom3Heac0",
     "type":"CODE",
     "hide_input_from_viewers":true,
     "hide_output_from_viewers":true
    }
   }
  },
  {
   "cell_type":"code",
   "source":[
    "import requests\n",
    "from bs4 import BeautifulSoup\n",
    "\n",
    "url = \"https:\/\/www.airlinequality.com\/airline-reviews\/british-airways\"\n",
    "pages = 30\n",
    "page_size = 100\n",
    "\n",
    "reviews = []\n",
    "overall_stars = []\n",
    "date = []\n",
    "country = []\n",
    "seat_comfort = []\n",
    "cabin_service = []\n",
    "food_beverages = []\n",
    "ground_serv = []\n",
    "recommendation = []\n",
    "\n",
    "for i in range(1, pages + 1):\n",
    "\n",
    "    review_url = f\"{url}\/page\/{i}\/?sortby=post_date%3ADesc&pagesize={page_size}\"\n",
    "    resp = requests.get(review_url)\n",
    "\n",
    "    cont = resp.content\n",
    "    pars_cont = BeautifulSoup(cont, 'html.parser')\n",
    "    for par in pars_cont.find_all(\"div\", {\"class\":\"text_content\"}):\n",
    "        reviews.append(par.get_text())\n",
    "\n",
    "    for par in pars_cont.find_all(\"div\", {\"class\":\"rating-10\"}):\n",
    "        try:\n",
    "            overall_stars.append(par.span.text)\n",
    "        except:\n",
    "            print(f\"Missing rating star on page {i}\")\n",
    "            overall_stars.append(\"None\")\n",
    "\n",
    "    for par in pars_cont.find_all(\"h3\"):\n",
    "        date.append(par.time.text)\n",
    "    \n",
    "    for par in pars_cont.find_all(\"h3\"):\n",
    "        country.append(par.span.next_sibling.text.strip( \" ()\"))\n",
    "    \n",
    "    for table in pars_cont.find_all(\"table\", {\"class\":\"review-ratings\"}):\n",
    "        for row in table.find_all(\"tr\"):\n",
    "            rating_name = row.find(\"td\", {\"class\":\"review-rating-header\"}).text.strip()\n",
    "            rating_star = row.find(\"td\", {\"class\":\"review-rating-stars\"})\n",
    "            rating_value = row.find(\"td\", {\"class\": \"review-value\"})\n",
    "\n",
    "            if rating_star is None:\n",
    "                rating_star = \"None\"\n",
    "            else:\n",
    "                rating_star = len(rating_star.find_all('span', class_='star fill'))\n",
    "\n",
    "            if rating_value is None:\n",
    "                rating_value = \"None\"\n",
    "            else:\n",
    "                rating_value = rating_value.text.strip() \n",
    "\n",
    "            # Append the rating name and value to respective lists\n",
    "            if rating_name == \"Seat Comfort\":\n",
    "                seat_comfort.append(rating_star)\n",
    "            elif rating_name == \"Cabin Staff Service\": \n",
    "                cabin_service.append(rating_star)\n",
    "            elif rating_name == \"Food & Beverages\":\n",
    "                food_beverages.append(rating_star)\n",
    "            elif rating_name == \"Ground Service\":\n",
    "                ground_serv.append(rating_star)\n",
    "            elif rating_name == \"Recommended\":\n",
    "                recommendation.append(rating_value)\n",
    "\n"
   ],
   "execution_count":70,
   "outputs":[
    {
     "name":"stdout",
     "text":[
      "Missing rating star on page 30\n"
     ],
     "output_type":"stream"
    }
   ],
   "metadata":{
    "datalore":{
     "node_id":"U3XVRVyJ4X82QdaajmUkVZ",
     "type":"CODE",
     "hide_input_from_viewers":true,
     "hide_output_from_viewers":true
    }
   }
  },
  {
   "cell_type":"code",
   "source":[
    "len(reviews)"
   ],
   "execution_count":60,
   "outputs":[
    {
     "data":{
      "text\/plain":[
       "3000"
      ]
     },
     "metadata":{
      
     },
     "output_type":"display_data"
    }
   ],
   "metadata":{
    "datalore":{
     "node_id":"PmBVRJsMJtPYu7OYZxsilm",
     "type":"CODE",
     "hide_input_from_viewers":true,
     "hide_output_from_viewers":true
    }
   }
  },
  {
   "cell_type":"code",
   "source":[
    "len(overall_stars)"
   ],
   "execution_count":61,
   "outputs":[
    {
     "data":{
      "text\/plain":[
       "3030"
      ]
     },
     "metadata":{
      
     },
     "output_type":"display_data"
    }
   ],
   "metadata":{
    "datalore":{
     "node_id":"QEJ91bfZ4LdE892CKfDcAk",
     "type":"CODE",
     "hide_input_from_viewers":true,
     "hide_output_from_viewers":true
    }
   }
  },
  {
   "cell_type":"code",
   "source":[
    "len(seat_comfort)"
   ],
   "execution_count":62,
   "outputs":[
    {
     "data":{
      "text\/plain":[
       "2927"
      ]
     },
     "metadata":{
      
     },
     "output_type":"display_data"
    }
   ],
   "metadata":{
    "datalore":{
     "node_id":"2sYVIGdUslytnc8EtTYK3g",
     "type":"CODE",
     "hide_input_from_viewers":true,
     "hide_output_from_viewers":true
    }
   }
  },
  {
   "cell_type":"code",
   "source":[
    "len(recommendation)"
   ],
   "execution_count":63,
   "outputs":[
    {
     "data":{
      "text\/plain":[
       "3000"
      ]
     },
     "metadata":{
      
     },
     "output_type":"display_data"
    }
   ],
   "metadata":{
    "datalore":{
     "node_id":"xWEgFymG72RssN1yWPwnwO",
     "type":"CODE",
     "hide_input_from_viewers":true,
     "hide_output_from_viewers":true
    }
   }
  },
  {
   "cell_type":"code",
   "source":[
    "len(cabin_service)"
   ],
   "execution_count":66,
   "outputs":[
    {
     "data":{
      "text\/plain":[
       "2887"
      ]
     },
     "metadata":{
      
     },
     "output_type":"display_data"
    }
   ],
   "metadata":{
    "datalore":{
     "node_id":"JSNdz2JViTChHKCd97STGy",
     "type":"CODE",
     "hide_input_from_viewers":true,
     "hide_output_from_viewers":true
    }
   }
  },
  {
   "cell_type":"code",
   "source":[
    "len(ground_serv)"
   ],
   "execution_count":76,
   "outputs":[
    {
     "data":{
      "text\/plain":[
       "2670"
      ]
     },
     "metadata":{
      
     },
     "output_type":"display_data"
    }
   ],
   "metadata":{
    "datalore":{
     "node_id":"eg9ezL94K2OeABUYumIAsn",
     "type":"CODE",
     "hide_input_from_viewers":true,
     "hide_output_from_viewers":true
    }
   }
  },
  {
   "cell_type":"code",
   "source":[
    "len(food_beverages)"
   ],
   "execution_count":75,
   "outputs":[
    {
     "data":{
      "text\/plain":[
       "2679"
      ]
     },
     "metadata":{
      
     },
     "output_type":"display_data"
    }
   ],
   "metadata":{
    "datalore":{
     "node_id":"YL9MrAde2b3rYHNinx3jxa",
     "type":"CODE",
     "hide_input_from_viewers":true,
     "hide_output_from_viewers":true
    }
   }
  },
  {
   "cell_type":"code",
   "source":[
    "seat_comfort = seat_comfort[:2670]\n",
    "reviews = reviews[:2670]\n",
    "ground_serv = ground_serv[:2670]\n",
    "cabin_service = cabin_service[:2670]\n",
    "recommendation = recommendation[:2670]\n",
    "overall_stars = overall_stars[:2670]\n",
    "food_beverages = food_beverages[:2670]\n",
    "date = date[:2670]\n",
    "country = country[:2670]"
   ],
   "execution_count":77,
   "outputs":[
    
   ],
   "metadata":{
    "datalore":{
     "node_id":"7ScCQUuiQjIAF28SJsVq0K",
     "type":"CODE",
     "hide_input_from_viewers":true,
     "hide_output_from_viewers":true
    }
   }
  },
  {
   "cell_type":"code",
   "source":[
    "df = pd.DataFrame({\"reviews\": reviews, \"rating_star\": overall_stars, \"date\": date, \"country\": country, \"seat_rating\": seat_comfort, \"staff_rating\": cabin_service, \"food_beverage_rating\": food_beverages, \"ground_service_rating\": ground_serv, \"recommendation\": recommendation})"
   ],
   "execution_count":78,
   "outputs":[
    
   ],
   "metadata":{
    "datalore":{
     "node_id":"zjA32xY0YyJsQCTqeuMpbl",
     "type":"CODE",
     "hide_input_from_viewers":true,
     "hide_output_from_viewers":true
    }
   }
  },
  {
   "cell_type":"code",
   "source":[
    "df.head()"
   ],
   "execution_count":80,
   "outputs":[
    {
     "data":{
      "text\/html":[
       "<div>\n",
       "<style scoped>\n",
       "    .dataframe tbody tr th:only-of-type {\n",
       "        vertical-align: middle;\n",
       "    }\n",
       "\n",
       "    .dataframe tbody tr th {\n",
       "        vertical-align: top;\n",
       "    }\n",
       "\n",
       "    .dataframe thead th {\n",
       "        text-align: right;\n",
       "    }\n",
       "<\/style>\n",
       "<table border=\"1\" class=\"dataframe\">\n",
       "  <thead>\n",
       "    <tr style=\"text-align: right;\">\n",
       "      <th><\/th>\n",
       "      <th>reviews<\/th>\n",
       "      <th>rating_star<\/th>\n",
       "      <th>date<\/th>\n",
       "      <th>country<\/th>\n",
       "      <th>seat_rating<\/th>\n",
       "      <th>staff_rating<\/th>\n",
       "      <th>food_beverage_rating<\/th>\n",
       "      <th>ground_service_rating<\/th>\n",
       "      <th>recommendation<\/th>\n",
       "    <\/tr>\n",
       "  <\/thead>\n",
       "  <tbody>\n",
       "    <tr>\n",
       "      <th>0<\/th>\n",
       "      <td>✅ Trip Verified |  I booked our first out of c...<\/td>\n",
       "      <td>\\n\\t\\t\\t\\t\\t\\t\\t\\t\\t\\t\\t\\t\\t5<\/td>\n",
       "      <td>8th June 2023<\/td>\n",
       "      <td>United States<\/td>\n",
       "      <td>3<\/td>\n",
       "      <td>4<\/td>\n",
       "      <td>3<\/td>\n",
       "      <td>1<\/td>\n",
       "      <td>no<\/td>\n",
       "    <\/tr>\n",
       "    <tr>\n",
       "      <th>1<\/th>\n",
       "      <td>✅ Trip Verified | My husband and I booked seat...<\/td>\n",
       "      <td>1<\/td>\n",
       "      <td>7th June 2023<\/td>\n",
       "      <td>United Kingdom<\/td>\n",
       "      <td>4<\/td>\n",
       "      <td>4<\/td>\n",
       "      <td>5<\/td>\n",
       "      <td>5<\/td>\n",
       "      <td>no<\/td>\n",
       "    <\/tr>\n",
       "    <tr>\n",
       "      <th>2<\/th>\n",
       "      <td>Not Verified |  May 3, flew from Seattle to He...<\/td>\n",
       "      <td>4<\/td>\n",
       "      <td>6th June 2023<\/td>\n",
       "      <td>United States<\/td>\n",
       "      <td>4<\/td>\n",
       "      <td>4<\/td>\n",
       "      <td>1<\/td>\n",
       "      <td>2<\/td>\n",
       "      <td>no<\/td>\n",
       "    <\/tr>\n",
       "    <tr>\n",
       "      <th>3<\/th>\n",
       "      <td>✅ Trip Verified | I went through three flights...<\/td>\n",
       "      <td>1<\/td>\n",
       "      <td>6th June 2023<\/td>\n",
       "      <td>Greece<\/td>\n",
       "      <td>2<\/td>\n",
       "      <td>5<\/td>\n",
       "      <td>4<\/td>\n",
       "      <td>5<\/td>\n",
       "      <td>no<\/td>\n",
       "    <\/tr>\n",
       "    <tr>\n",
       "      <th>4<\/th>\n",
       "      <td>✅ Trip Verified | An excellent flight in Club ...<\/td>\n",
       "      <td>2<\/td>\n",
       "      <td>6th June 2023<\/td>\n",
       "      <td>United Kingdom<\/td>\n",
       "      <td>4<\/td>\n",
       "      <td>5<\/td>\n",
       "      <td>3<\/td>\n",
       "      <td>4<\/td>\n",
       "      <td>yes<\/td>\n",
       "    <\/tr>\n",
       "  <\/tbody>\n",
       "<\/table>\n",
       "<\/div>"
      ]
     },
     "metadata":{
      
     },
     "output_type":"display_data"
    }
   ],
   "metadata":{
    "datalore":{
     "node_id":"4oLVSWhlCxKB0aqM2z3jdg",
     "type":"CODE",
     "hide_input_from_viewers":true,
     "hide_output_from_viewers":true
    }
   }
  },
  {
   "cell_type":"code",
   "source":[
    "df.to_csv(\"BA_reviews.csv\")"
   ],
   "execution_count":82,
   "outputs":[
    
   ],
   "metadata":{
    "datalore":{
     "node_id":"HybIKSqNJxTUPP1R5AkKle",
     "type":"CODE",
     "hide_input_from_viewers":true,
     "hide_output_from_viewers":true
    }
   }
  }
 ],
 "metadata":{
  "kernelspec":{
   "display_name":"Python",
   "language":"python",
   "name":"python"
  },
  "datalore":{
   "computation_mode":"JUPYTER",
   "package_manager":"pip",
   "base_environment":"default",
   "packages":[
    
   ],
   "report_row_ids":[
    
   ],
   "version":3
  }
 },
 "nbformat":4,
 "nbformat_minor":4
}